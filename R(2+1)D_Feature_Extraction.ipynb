{
  "cells": [
    {
      "cell_type": "markdown",
      "metadata": {
        "id": "UqVw4P9xDONr"
      },
      "source": [
        "<figure>\n",
        "  <img src=\"https://github.com/v-iashin/video_features/raw/master/docs/_assets/r21d.png\" width=\"300\" />\n",
        "</figure>\n",
        "\n",
        "The `video_features` library allows you to extract features from\n",
        "raw videos in parallel with multiple GPUs.\n",
        "It supports several extractors that capture visual appearance,\n",
        "optical flow, and audio features. See more details in the\n",
        "[GitHub repository](https://github.com/v-iashin/video_features).\n",
        "\n",
        "See more feature extraction examples in colaboratory notebooks:\n",
        "* [![Open In Colab](https://colab.research.google.com/assets/colab-badge.svg)](https://colab.research.google.com/drive/1Zd7r8uKGLGSxlil4PPnXk_4I3KOsjPpO?usp=sharing) – CLIP\n",
        "* [![Open In Colab](https://colab.research.google.com/assets/colab-badge.svg)](https://colab.research.google.com/drive/1HUlYcOJf_dArOcAaR9jaQHuM5CAZiNZc?usp=sharing) – S3D\n",
        "* [![Open In Colab](https://colab.research.google.com/assets/colab-badge.svg)](https://colab.research.google.com/drive/1LKoytZmNxtC-EuCp7pHDM6sFvK1XdwlW?usp=sharing) – I3D\n",
        "* [![Open In Colab](https://colab.research.google.com/assets/colab-badge.svg)](https://colab.research.google.com/drive/1csJgkVQ3E2qOyVlcOM-ACHGgPBBKwE2Y?usp=sharing) – R(2+1)D\n",
        "* [![Open In Colab](https://colab.research.google.com/assets/colab-badge.svg)](https://colab.research.google.com/drive/18I95Rn1B3a2ISfD9b-o4o93m3XuHbcIY?usp=sharing) – RAFT\n",
        "* [![Open In Colab](https://colab.research.google.com/assets/colab-badge.svg)](https://colab.research.google.com/drive/17VLdf4abQT2eoMjc6ziJ9UaRaOklTlP0?usp=sharing) – ResNet\n",
        "* [![Open In Colab](https://colab.research.google.com/assets/colab-badge.svg)](https://colab.research.google.com/drive/1r_8OnmwXKwmH0n4RxBfuICVBgpbJt_Fs?usp=sharing) – VGGish\n",
        "* [![Open In Colab](https://colab.research.google.com/assets/colab-badge.svg)](https://colab.research.google.com/drive/16QEwNMqiwqlmBhJCJmNeeEP8gitom0I-?usp=sharing) – [timm](https://huggingface.co/timm) models"
      ]
    },
    {
      "cell_type": "code",
      "execution_count": 3,
      "metadata": {
        "colab": {
          "base_uri": "https://localhost:8080/",
          "height": 36
        },
        "id": "6Czo1UciGomZ",
        "outputId": "ea0bb0bb-966a-4232-abff-61ed34c28686"
      },
      "outputs": [
        {
          "data": {
            "text/plain": [
              "'NVIDIA GeForce RTX 4070 Ti'"
            ]
          },
          "execution_count": 3,
          "metadata": {},
          "output_type": "execute_result"
        }
      ],
      "source": [
        "from models.r21d.extract_r21d import ExtractR21D\n",
        "from utils.utils import build_cfg_path\n",
        "from omegaconf import OmegaConf\n",
        "import torch\n",
        "\n",
        "device = 'cuda' if torch.cuda.is_available() else 'cpu'\n",
        "torch.cuda.get_device_name(0)"
      ]
    },
    {
      "cell_type": "code",
      "execution_count": 30,
      "metadata": {},
      "outputs": [],
      "source": [
        "import os\n",
        "\n",
        "directory = r\"C:\\Users\\gonza\\Downloads\\train_subset\\train_subset\"\n",
        "\n",
        "\n",
        "videos = []\n",
        "\n",
        "for root, _, files in os.walk(directory):\n",
        "    for file in files:\n",
        "        if file.endswith(\".mp4\"):\n",
        "            videos.append(os.path.join(root, file))\n",
        "\n"
      ]
    },
    {
      "cell_type": "code",
      "execution_count": 32,
      "metadata": {
        "colab": {
          "base_uri": "https://localhost:8080/"
        },
        "id": "iMwy01A8w9nP",
        "outputId": "f0d4635a-6083-4a62-c7b5-80157fc8e985"
      },
      "outputs": [
        {
          "name": "stderr",
          "output_type": "stream",
          "text": [
            "Extracting features:   3%|▎         | 363/10717 [06:25<3:26:55,  1.20s/it]"
          ]
        },
        {
          "name": "stdout",
          "output_type": "stream",
          "text": [
            "Error extracting features from C:\\Users\\gonza\\Downloads\\train_subset\\train_subset\\1azVHxhCCU0_000011_000021.mp4: Non-empty 4D data tensor expected but got a tensor with sizes [3, 0, 1, 1]\n"
          ]
        },
        {
          "name": "stderr",
          "output_type": "stream",
          "text": [
            "Extracting features:   4%|▍         | 404/10717 [07:08<4:26:52,  1.55s/it]"
          ]
        },
        {
          "name": "stdout",
          "output_type": "stream",
          "text": [
            "Error extracting features from C:\\Users\\gonza\\Downloads\\train_subset\\train_subset\\1IQCtz7ZUzo_000041_000051.mp4: Non-empty 4D data tensor expected but got a tensor with sizes [3, 0, 1, 1]\n"
          ]
        },
        {
          "name": "stderr",
          "output_type": "stream",
          "text": [
            "Extracting features:  10%|▉         | 1051/10717 [18:06<2:43:10,  1.01s/it]"
          ]
        },
        {
          "name": "stdout",
          "output_type": "stream",
          "text": [
            "Error extracting features from C:\\Users\\gonza\\Downloads\\train_subset\\train_subset\\5hHJPNxhPAo_000091_000101.mp4: Non-empty 4D data tensor expected but got a tensor with sizes [3, 0, 1, 1]\n"
          ]
        },
        {
          "name": "stderr",
          "output_type": "stream",
          "text": [
            "Extracting features:  11%|█         | 1175/10717 [20:07<3:20:13,  1.26s/it]"
          ]
        },
        {
          "name": "stdout",
          "output_type": "stream",
          "text": [
            "Error extracting features from C:\\Users\\gonza\\Downloads\\train_subset\\train_subset\\67C9Qcv0LGw_000110_000120.mp4: Non-empty 4D data tensor expected but got a tensor with sizes [3, 0, 1, 1]\n"
          ]
        },
        {
          "name": "stderr",
          "output_type": "stream",
          "text": [
            "Extracting features:  12%|█▏        | 1275/10717 [21:38<3:06:04,  1.18s/it]"
          ]
        },
        {
          "name": "stdout",
          "output_type": "stream",
          "text": [
            "Error extracting features from C:\\Users\\gonza\\Downloads\\train_subset\\train_subset\\6rxdq0ebecA_000016_000026.mp4: Non-empty 4D data tensor expected but got a tensor with sizes [3, 0, 1, 1]\n"
          ]
        },
        {
          "name": "stderr",
          "output_type": "stream",
          "text": [
            "Extracting features:  12%|█▏        | 1321/10717 [22:19<1:07:26,  2.32it/s]"
          ]
        },
        {
          "name": "stdout",
          "output_type": "stream",
          "text": [
            "Error extracting features from C:\\Users\\gonza\\Downloads\\train_subset\\train_subset\\6ZkCVUkeCSA_000033_000043.mp4: Non-empty 4D data tensor expected but got a tensor with sizes [3, 0, 1, 1]\n"
          ]
        },
        {
          "name": "stderr",
          "output_type": "stream",
          "text": [
            "Extracting features:  15%|█▌        | 1656/10717 [27:55<2:50:07,  1.13s/it]"
          ]
        },
        {
          "name": "stdout",
          "output_type": "stream",
          "text": [
            "Error extracting features from C:\\Users\\gonza\\Downloads\\train_subset\\train_subset\\91UPzK73iIQ_000013_000023.mp4: Non-empty 4D data tensor expected but got a tensor with sizes [3, 0, 1, 1]\n"
          ]
        },
        {
          "name": "stderr",
          "output_type": "stream",
          "text": [
            "Extracting features:  21%|██        | 2208/10717 [36:55<2:42:54,  1.15s/it]"
          ]
        },
        {
          "name": "stdout",
          "output_type": "stream",
          "text": [
            "Error extracting features from C:\\Users\\gonza\\Downloads\\train_subset\\train_subset\\B3AFb5PV0Wg_000059_000069.mp4: Non-empty 4D data tensor expected but got a tensor with sizes [3, 0, 1, 1]\n"
          ]
        },
        {
          "name": "stderr",
          "output_type": "stream",
          "text": [
            "Extracting features:  29%|██▉       | 3102/10717 [51:51<2:31:52,  1.20s/it]"
          ]
        },
        {
          "name": "stdout",
          "output_type": "stream",
          "text": [
            "Error extracting features from C:\\Users\\gonza\\Downloads\\train_subset\\train_subset\\dpoexBwVFWA_000018_000028.mp4: Non-empty 4D data tensor expected but got a tensor with sizes [3, 0, 1, 1]\n"
          ]
        },
        {
          "name": "stderr",
          "output_type": "stream",
          "text": [
            "Extracting features:  30%|███       | 3248/10717 [54:32<2:11:13,  1.05s/it]"
          ]
        },
        {
          "name": "stdout",
          "output_type": "stream",
          "text": [
            "Error extracting features from C:\\Users\\gonza\\Downloads\\train_subset\\train_subset\\E2kUsRIj4tM_000317_000327.mp4: Non-empty 4D data tensor expected but got a tensor with sizes [3, 0, 1, 1]\n"
          ]
        },
        {
          "name": "stderr",
          "output_type": "stream",
          "text": [
            "Extracting features:  32%|███▏      | 3406/10717 [57:13<1:27:32,  1.39it/s]"
          ]
        },
        {
          "name": "stdout",
          "output_type": "stream",
          "text": [
            "Error extracting features from C:\\Users\\gonza\\Downloads\\train_subset\\train_subset\\Eiv-DllxdsI_000002_000012.mp4: Non-empty 4D data tensor expected but got a tensor with sizes [3, 0, 1, 1]\n"
          ]
        },
        {
          "name": "stderr",
          "output_type": "stream",
          "text": [
            "Extracting features:  35%|███▌      | 3781/10717 [1:03:39<1:30:47,  1.27it/s]"
          ]
        },
        {
          "name": "stdout",
          "output_type": "stream",
          "text": [
            "Error extracting features from C:\\Users\\gonza\\Downloads\\train_subset\\train_subset\\fNFXTBUF3nY_000230_000240.mp4: Non-empty 4D data tensor expected but got a tensor with sizes [3, 0, 1, 1]\n"
          ]
        },
        {
          "name": "stderr",
          "output_type": "stream",
          "text": [
            "Extracting features:  46%|████▋     | 4959/10717 [1:24:11<1:06:20,  1.45it/s]"
          ]
        },
        {
          "name": "stdout",
          "output_type": "stream",
          "text": [
            "Error extracting features from C:\\Users\\gonza\\Downloads\\train_subset\\train_subset\\J5xNIJlfBAw_000156_000166.mp4: Non-empty 4D data tensor expected but got a tensor with sizes [3, 0, 1, 1]\n"
          ]
        },
        {
          "name": "stderr",
          "output_type": "stream",
          "text": [
            "Extracting features:  47%|████▋     | 5066/10717 [1:25:49<1:38:06,  1.04s/it]"
          ]
        },
        {
          "name": "stdout",
          "output_type": "stream",
          "text": [
            "Error extracting features from C:\\Users\\gonza\\Downloads\\train_subset\\train_subset\\jHODDw65G4A_000085_000095.mp4: Non-empty 4D data tensor expected but got a tensor with sizes [3, 0, 1, 1]\n"
          ]
        },
        {
          "name": "stderr",
          "output_type": "stream",
          "text": [
            "Extracting features:  47%|████▋     | 5072/10717 [1:25:53<1:23:32,  1.13it/s]"
          ]
        },
        {
          "name": "stdout",
          "output_type": "stream",
          "text": [
            "Error extracting features from C:\\Users\\gonza\\Downloads\\train_subset\\train_subset\\jI07E1pBz1s_000691_000701.mp4: Non-empty 4D data tensor expected but got a tensor with sizes [3, 0, 1, 1]\n"
          ]
        },
        {
          "name": "stderr",
          "output_type": "stream",
          "text": [
            "Extracting features:  59%|█████▊    | 6274/10717 [1:45:50<1:11:52,  1.03it/s]"
          ]
        },
        {
          "name": "stdout",
          "output_type": "stream",
          "text": [
            "Error extracting features from C:\\Users\\gonza\\Downloads\\train_subset\\train_subset\\myaj4rly0Rw_000014_000024.mp4: Non-empty 4D data tensor expected but got a tensor with sizes [3, 0, 1, 1]\n"
          ]
        },
        {
          "name": "stderr",
          "output_type": "stream",
          "text": [
            "Extracting features:  70%|██████▉   | 7470/10717 [2:05:44<57:09,  1.06s/it]  "
          ]
        },
        {
          "name": "stdout",
          "output_type": "stream",
          "text": [
            "Error extracting features from C:\\Users\\gonza\\Downloads\\train_subset\\train_subset\\qJphTDHjvrc_000001_000011.mp4: Non-empty 4D data tensor expected but got a tensor with sizes [3, 0, 1, 1]\n"
          ]
        },
        {
          "name": "stderr",
          "output_type": "stream",
          "text": [
            "Extracting features:  71%|███████   | 7591/10717 [2:07:52<1:03:53,  1.23s/it]"
          ]
        },
        {
          "name": "stdout",
          "output_type": "stream",
          "text": [
            "Error extracting features from C:\\Users\\gonza\\Downloads\\train_subset\\train_subset\\QtZDZIx3owM_000097_000107.mp4: Non-empty 4D data tensor expected but got a tensor with sizes [3, 0, 1, 1]\n"
          ]
        },
        {
          "name": "stderr",
          "output_type": "stream",
          "text": [
            "Extracting features:  77%|███████▋  | 8289/10717 [2:19:41<39:46,  1.02it/s]  "
          ]
        },
        {
          "name": "stdout",
          "output_type": "stream",
          "text": [
            "Error extracting features from C:\\Users\\gonza\\Downloads\\train_subset\\train_subset\\sRMphWVvP6U_000012_000022.mp4: Non-empty 4D data tensor expected but got a tensor with sizes [3, 0, 1, 1]\n"
          ]
        },
        {
          "name": "stderr",
          "output_type": "stream",
          "text": [
            "Extracting features:  81%|████████  | 8651/10717 [2:26:00<28:02,  1.23it/s]  "
          ]
        },
        {
          "name": "stdout",
          "output_type": "stream",
          "text": [
            "Error extracting features from C:\\Users\\gonza\\Downloads\\train_subset\\train_subset\\TYmdsdukKgE_000007_000017.mp4: Non-empty 4D data tensor expected but got a tensor with sizes [3, 0, 1, 1]\n"
          ]
        },
        {
          "name": "stderr",
          "output_type": "stream",
          "text": [
            "Extracting features:  81%|████████  | 8694/10717 [2:26:37<19:20,  1.74it/s]"
          ]
        },
        {
          "name": "stdout",
          "output_type": "stream",
          "text": [
            "Error extracting features from C:\\Users\\gonza\\Downloads\\train_subset\\train_subset\\u5zCPI91HLo_000041_000051.mp4: Non-empty 4D data tensor expected but got a tensor with sizes [3, 0, 1, 1]\n"
          ]
        },
        {
          "name": "stderr",
          "output_type": "stream",
          "text": [
            "Extracting features:  86%|████████▌ | 9205/10717 [2:35:15<23:08,  1.09it/s]"
          ]
        },
        {
          "name": "stdout",
          "output_type": "stream",
          "text": [
            "Error extracting features from C:\\Users\\gonza\\Downloads\\train_subset\\train_subset\\Vpvs1HfG2PA_000093_000103.mp4: Non-empty 4D data tensor expected but got a tensor with sizes [3, 0, 1, 1]\n"
          ]
        },
        {
          "name": "stderr",
          "output_type": "stream",
          "text": [
            "Extracting features: 100%|██████████| 10717/10717 [3:01:12<00:00,  1.01s/it]\n"
          ]
        },
        {
          "name": "stdout",
          "output_type": "stream",
          "text": [
            "Feature extraction complete.\n",
            "Successfully extracted features from 10695 videos.\n",
            "Failed to extract features from 22 videos. Paths saved in failed_videos array.\n"
          ]
        }
      ],
      "source": [
        "import pandas as pd\n",
        "from tqdm import tqdm\n",
        "# Select the feature type\n",
        "feature_type = 'r21d'\n",
        "\n",
        "# Load and patch the config\n",
        "args = OmegaConf.load(build_cfg_path(feature_type))\n",
        "args.video_paths = videos\n",
        "args.model_name = 'r2plus1d_18_16_kinetics'  # default - Acc@1: 57.50, Acc@5: 78.81\n",
        "# args.model_name = 'r2plus1d_34_32_ig65m_ft_kinetics'  # Acc@1: 79.1, Acc@5: 93.9\n",
        "# args.model_name = 'r2plus1d_34_8_ig65m_ft_kinetics'\n",
        "# args.show_pred = True\n",
        "# args.stack_size = 24\n",
        "# args.step_size = 24\n",
        "\n",
        "# Load the model\n",
        "extractor = ExtractR21D(args)\n",
        "\n",
        "successful_features = []\n",
        "failed_videos = []\n",
        "\n",
        "for video_path in tqdm(args.video_paths, desc=\"Extracting features\"):\n",
        "    try:\n",
        "        feature_dict = extractor.extract(video_path)\n",
        "        for k, v in feature_dict.items():\n",
        "            flattened_features = v.flatten()\n",
        "            successful_features.append(flattened_features)\n",
        "    except Exception as e:\n",
        "        print(f\"Error extracting features from {video_path}: {e}\")\n",
        "        failed_videos.append(video_path)\n",
        "\n",
        "results_df = pd.DataFrame(successful_features)\n",
        "\n",
        "results_df.to_csv('video_features.csv', index=False, header=False) \n",
        "\n",
        "print(\"Feature extraction complete.\")\n",
        "print(f\"Successfully extracted features from {len(successful_features)} videos.\")\n",
        "print(f\"Failed to extract features from {len(failed_videos)} videos.\")"
      ]
    }
  ],
  "metadata": {
    "accelerator": "GPU",
    "colab": {
      "provenance": []
    },
    "kernelspec": {
      "display_name": "Python 3",
      "name": "python3"
    },
    "language_info": {
      "codemirror_mode": {
        "name": "ipython",
        "version": 3
      },
      "file_extension": ".py",
      "mimetype": "text/x-python",
      "name": "python",
      "nbconvert_exporter": "python",
      "pygments_lexer": "ipython3",
      "version": "3.11.9"
    }
  },
  "nbformat": 4,
  "nbformat_minor": 0
}
